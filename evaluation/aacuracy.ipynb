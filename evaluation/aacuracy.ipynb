{
 "cells": [
  {
   "cell_type": "code",
   "execution_count": 3,
   "metadata": {},
   "outputs": [],
   "source": [
    "from __future__ import absolute_import\n",
    "from __future__  import division\n",
    "from __future__ import print_function\n",
    "import tensorflow as tf\n",
    "import numpy as np\n",
    "from skimage.io import imread\n",
    "from skimage.transform import resize\n",
    "import cv2\n",
    "import numpy as np\n",
    "import os\n",
    "from PIL import Image\n",
    "from io import BytesIO\n",
    "import time\n",
    "\n"
   ]
  },
  {
   "cell_type": "code",
   "execution_count": 4,
   "metadata": {},
   "outputs": [
    {
     "name": "stdout",
     "output_type": "stream",
     "text": [
      "[name: \"/device:CPU:0\"\n",
      "device_type: \"CPU\"\n",
      "memory_limit: 268435456\n",
      "locality {\n",
      "}\n",
      "incarnation: 7581248417004912653\n",
      "]\n"
     ]
    }
   ],
   "source": [
    "from tensorflow.python.client import device_lib\n",
    "print(device_lib.list_local_devices())"
   ]
  },
  {
   "cell_type": "code",
   "execution_count": null,
   "metadata": {},
   "outputs": [],
   "source": []
  },
  {
   "cell_type": "code",
   "execution_count": 5,
   "metadata": {},
   "outputs": [],
   "source": [
    "def mamon_videoFightModel2(tf,wight='mamonbest947oscombo.hdfs'):\n",
    "    layers = tf.keras.layers\n",
    "    models = tf.keras.models\n",
    "    losses = tf.keras.losses\n",
    "    optimizers = tf.keras.optimizers\n",
    "    metrics = tf.keras.metrics\n",
    "    num_classes = 2\n",
    "    cnn = models.Sequential()\n",
    "    #cnn.add(base_model)\n",
    "\n",
    "    input_shapes=(160,160,3)\n",
    "    np.random.seed(1234)\n",
    "    vg19 = tf.keras.applications.vgg19.VGG19\n",
    "    base_model = vg19(include_top=False,weights='imagenet',input_shape=(160, 160,3))\n",
    "    # Freeze the layers except the last 4 layers\n",
    "    #for layer in base_model.layers:\n",
    "    #    layer.trainable = False\n",
    "\n",
    "    cnn = models.Sequential()\n",
    "    cnn.add(base_model)\n",
    "    cnn.add(layers.Flatten())\n",
    "    model = models.Sequential()\n",
    "\n",
    "    model.add(layers.TimeDistributed(cnn,  input_shape=(30, 160, 160, 3)))\n",
    "    model.add(layers.LSTM(30 , return_sequences= True))\n",
    "\n",
    "    model.add(layers.TimeDistributed(layers.Dense(90)))\n",
    "    model.add(layers.Dropout(0.1))\n",
    "\n",
    "    model.add(layers.GlobalAveragePooling1D())\n",
    "\n",
    "    model.add(layers.Dense(512, activation='relu'))\n",
    "    model.add(layers.Dropout(0.3))\n",
    "\n",
    "    model.add(layers.Dense(num_classes, activation=\"sigmoid\"))\n",
    "\n",
    "    adam = optimizers.Adam(lr=0.0005, beta_1=0.9, beta_2=0.999, epsilon=1e-08)\n",
    "    model.load_weights(wight)\n",
    "    rms = optimizers.RMSprop()\n",
    "\n",
    "    model.compile(loss='binary_crossentropy', optimizer=adam, metrics=[\"accuracy\"])\n",
    "\n",
    "    return model\n"
   ]
  },
  {
   "cell_type": "code",
   "execution_count": 6,
   "metadata": {},
   "outputs": [
    {
     "name": "stdout",
     "output_type": "stream",
     "text": [
      "WARNING:tensorflow:From C:\\Users\\tinil\\Anaconda3\\lib\\site-packages\\tensorflow\\python\\ops\\resource_variable_ops.py:435: colocate_with (from tensorflow.python.framework.ops) is deprecated and will be removed in a future version.\n",
      "Instructions for updating:\n",
      "Colocations handled automatically by placer.\n",
      "WARNING:tensorflow:From C:\\Users\\tinil\\Anaconda3\\lib\\site-packages\\tensorflow\\python\\keras\\layers\\core.py:143: calling dropout (from tensorflow.python.ops.nn_ops) with keep_prob is deprecated and will be removed in a future version.\n",
      "Instructions for updating:\n",
      "Please use `rate` instead of `keep_prob`. Rate should be set to `rate = 1 - keep_prob`.\n"
     ]
    }
   ],
   "source": [
    "import numpy as np\n",
    "from skimage.transform import resize\n",
    "np.random.seed(1234)\n",
    "model22 = mamon_videoFightModel2(tf)\n"
   ]
  },
  {
   "cell_type": "code",
   "execution_count": 7,
   "metadata": {},
   "outputs": [],
   "source": [
    "model22._make_predict_function()\n"
   ]
  },
  {
   "cell_type": "code",
   "execution_count": 8,
   "metadata": {},
   "outputs": [],
   "source": [
    "def video_mamonreader(cv2,filename):\n",
    "    frames = np.zeros((30, 160, 160, 3), dtype=np.float)\n",
    "    i=0\n",
    "    print(frames.shape)\n",
    "    vc = cv2.VideoCapture(filename)\n",
    "    if vc.isOpened():\n",
    "        rval , frame = vc.read()\n",
    "    else:\n",
    "        rval = False\n",
    "    frm = resize(frame,(160,160,3))\n",
    "    frm = np.expand_dims(frm,axis=0)\n",
    "    if(np.max(frm)>1):\n",
    "        frm = frm/255.0\n",
    "    frames[i][:] = frm\n",
    "    i +=1\n",
    "    print(\"reading video\")\n",
    "    while i < 30:\n",
    "        rval, frame = vc.read()\n",
    "        frm = resize(frame,(160,160,3))\n",
    "        frm = np.expand_dims(frm,axis=0)\n",
    "        if(np.max(frm)>1):\n",
    "            frm = frm/255.0\n",
    "        frames[i][:] = frm\n",
    "        i +=1\n",
    "    return frames"
   ]
  },
  {
   "cell_type": "code",
   "execution_count": 9,
   "metadata": {},
   "outputs": [],
   "source": [
    "def pred_fight(model,video,acuracy=0.9):\n",
    "    pred_test = model.predict(video)\n",
    "    if pred_test[0][1] >=acuracy:\n",
    "        return True , pred_test[0][1]\n",
    "    else:\n",
    "        return False , pred_test[0][1]"
   ]
  },
  {
   "cell_type": "code",
   "execution_count": null,
   "metadata": {},
   "outputs": [],
   "source": []
  },
  {
   "cell_type": "code",
   "execution_count": 10,
   "metadata": {},
   "outputs": [],
   "source": [
    "def main_fight(vidoss):\n",
    "    vid = video_mamonreader(cv2,vidoss)\n",
    "    datav = np.zeros((1, 30, 160, 160, 3), dtype=np.float)\n",
    "    datav[0][:][:] = vid\n",
    "    millis = int(round(time.time() * 1000))\n",
    "    print(millis)\n",
    "    f , precent = pred_fight(model22,datav,acuracy=0.65)\n",
    "    millis2 = int(round(time.time() * 1000))\n",
    "    print(millis2)\n",
    "    res_mamon = {'fight':f , 'precentegeoffight':str(precent)}\n",
    "    res_mamon['processing_time'] =  str(millis2-millis)\n",
    "    return res_mamon"
   ]
  },
  {
   "cell_type": "code",
   "execution_count": null,
   "metadata": {},
   "outputs": [],
   "source": []
  },
  {
   "cell_type": "code",
   "execution_count": null,
   "metadata": {},
   "outputs": [],
   "source": [
    "res"
   ]
  },
  {
   "cell_type": "code",
   "execution_count": null,
   "metadata": {},
   "outputs": [],
   "source": []
  },
  {
   "cell_type": "code",
   "execution_count": null,
   "metadata": {},
   "outputs": [],
   "source": [
    "res"
   ]
  },
  {
   "cell_type": "code",
   "execution_count": 12,
   "metadata": {},
   "outputs": [
    {
     "name": "stdout",
     "output_type": "stream",
     "text": [
      "(30, 160, 160, 3)\n",
      "reading video\n",
      "1591108962165\n",
      "1591108976056\n",
      "(30, 160, 160, 3)\n",
      "reading video\n",
      "1591108978744\n",
      "1591108992362\n",
      "(30, 160, 160, 3)\n",
      "reading video\n",
      "1591108995106\n",
      "1591109008623\n",
      "(30, 160, 160, 3)\n",
      "reading video\n",
      "1591109011433\n",
      "1591109024873\n",
      "(30, 160, 160, 3)\n",
      "reading video\n",
      "1591109027623\n",
      "1591109041030\n",
      "(30, 160, 160, 3)\n",
      "reading video\n",
      "1591109043560\n",
      "1591109056864\n",
      "(30, 160, 160, 3)\n",
      "reading video\n",
      "1591109059398\n",
      "1591109072669\n",
      "(30, 160, 160, 3)\n",
      "reading video\n",
      "1591109075182\n",
      "1591109088427\n",
      "(30, 160, 160, 3)\n",
      "reading video\n",
      "1591109090989\n",
      "1591109104284\n",
      "(30, 160, 160, 3)\n",
      "reading video\n",
      "1591109106837\n",
      "1591109120111\n",
      "(30, 160, 160, 3)\n",
      "reading video\n",
      "1591109122687\n",
      "1591109136045\n",
      "(30, 160, 160, 3)\n",
      "reading video\n",
      "1591109138567\n",
      "1591109151829\n",
      "(30, 160, 160, 3)\n",
      "reading video\n",
      "1591109154338\n",
      "1591109167789\n",
      "(30, 160, 160, 3)\n",
      "reading video\n",
      "1591109170294\n",
      "1591109183793\n",
      "(30, 160, 160, 3)\n",
      "reading video\n",
      "1591109186425\n",
      "1591109200039\n",
      "(30, 160, 160, 3)\n",
      "reading video\n",
      "1591109202624\n",
      "1591109216430\n",
      "(30, 160, 160, 3)\n",
      "reading video\n",
      "1591109219113\n",
      "1591109233844\n",
      "(30, 160, 160, 3)\n",
      "reading video\n",
      "1591109236449\n",
      "1591109249992\n",
      "(30, 160, 160, 3)\n",
      "reading video\n",
      "1591109252573\n",
      "1591109265975\n",
      "(30, 160, 160, 3)\n",
      "reading video\n",
      "1591109268508\n",
      "1591109281890\n",
      "[{'fight': True, 'precentegeoffight': '0.99508226', 'processing_time': '13891'}, {'fight': True, 'precentegeoffight': '0.9951514', 'processing_time': '13618'}, {'fight': True, 'precentegeoffight': '0.99544275', 'processing_time': '13517'}, {'fight': True, 'precentegeoffight': '0.9948932', 'processing_time': '13440'}, {'fight': True, 'precentegeoffight': '0.9960542', 'processing_time': '13407'}, {'fight': True, 'precentegeoffight': '0.9767379', 'processing_time': '13304'}, {'fight': True, 'precentegeoffight': '0.99549145', 'processing_time': '13271'}, {'fight': True, 'precentegeoffight': '0.99352694', 'processing_time': '13245'}, {'fight': True, 'precentegeoffight': '0.99647623', 'processing_time': '13295'}, {'fight': True, 'precentegeoffight': '0.99646276', 'processing_time': '13274'}, {'fight': True, 'precentegeoffight': '0.99488574', 'processing_time': '13358'}, {'fight': True, 'precentegeoffight': '0.99508226', 'processing_time': '13262'}, {'fight': True, 'precentegeoffight': '0.99232227', 'processing_time': '13451'}, {'fight': True, 'precentegeoffight': '0.995856', 'processing_time': '13499'}, {'fight': True, 'precentegeoffight': '0.9963819', 'processing_time': '13614'}, {'fight': True, 'precentegeoffight': '0.9964413', 'processing_time': '13806'}, {'fight': True, 'precentegeoffight': '0.99706703', 'processing_time': '14731'}, {'fight': True, 'precentegeoffight': '0.99575233', 'processing_time': '13543'}, {'fight': True, 'precentegeoffight': '0.9952991', 'processing_time': '13402'}, {'fight': True, 'precentegeoffight': '0.993834', 'processing_time': '13382'}]\n",
      "\n"
     ]
    }
   ],
   "source": [
    "import os\n",
    "\n",
    "return_list = []\n",
    "\n",
    "for file in os.listdir(\"E:/dataset/yes/\"):\n",
    "\n",
    "                       if file.endswith(\".avi\"):\n",
    "                           path=os.path.join(\"E:/dataset/yes/\",file)\n",
    "                           res=main_fight(path)\n",
    "                           return_list.append(res)\n",
    "                \n",
    "                        \n",
    "                           \n",
    "                    \n",
    "print(return_list)\n",
    "print()"
   ]
  },
  {
   "cell_type": "code",
   "execution_count": 13,
   "metadata": {},
   "outputs": [
    {
     "name": "stdout",
     "output_type": "stream",
     "text": [
      "(30, 160, 160, 3)\n",
      "reading video\n",
      "1591119834426\n",
      "1591119848543\n",
      "(30, 160, 160, 3)\n",
      "reading video\n",
      "1591119855800\n",
      "1591119866810\n",
      "(30, 160, 160, 3)\n",
      "reading video\n",
      "1591119868583\n",
      "1591119879165\n",
      "(30, 160, 160, 3)\n",
      "reading video\n",
      "1591119880913\n",
      "1591119891739\n",
      "(30, 160, 160, 3)\n",
      "reading video\n",
      "1591119893558\n",
      "1591119904173\n",
      "(30, 160, 160, 3)\n",
      "reading video\n",
      "1591119905967\n",
      "1591119916468\n",
      "(30, 160, 160, 3)\n",
      "reading video\n",
      "1591119918105\n",
      "1591119928684\n",
      "(30, 160, 160, 3)\n",
      "reading video\n",
      "1591119930363\n",
      "1591119940826\n",
      "(30, 160, 160, 3)\n",
      "reading video\n",
      "1591119942584\n",
      "1591119953039\n",
      "(30, 160, 160, 3)\n",
      "reading video\n",
      "1591119954702\n",
      "1591119965223\n",
      "(30, 160, 160, 3)\n",
      "reading video\n",
      "1591119966903\n",
      "1591119977485\n",
      "(30, 160, 160, 3)\n",
      "reading video\n",
      "1591119979107\n",
      "1591119989578\n",
      "(30, 160, 160, 3)\n",
      "reading video\n",
      "1591119991212\n",
      "1591120001847\n",
      "(30, 160, 160, 3)\n",
      "reading video\n",
      "1591120003675\n",
      "1591120014161\n",
      "(30, 160, 160, 3)\n",
      "reading video\n",
      "1591120015853\n",
      "1591120026327\n",
      "(30, 160, 160, 3)\n",
      "reading video\n",
      "1591120028025\n",
      "1591120038537\n",
      "(30, 160, 160, 3)\n",
      "reading video\n",
      "1591120040164\n",
      "1591120050709\n",
      "(30, 160, 160, 3)\n",
      "reading video\n",
      "1591120052385\n",
      "1591120062958\n",
      "(30, 160, 160, 3)\n",
      "reading video\n",
      "1591120064657\n",
      "1591120075193\n",
      "(30, 160, 160, 3)\n",
      "reading video\n",
      "1591120076840\n",
      "1591120087312\n",
      "[{'fight': False, 'precentegeoffight': '0.004801545', 'processing_time': '14117'}, {'fight': False, 'precentegeoffight': '0.004951854', 'processing_time': '11010'}, {'fight': False, 'precentegeoffight': '0.0049856678', 'processing_time': '10582'}, {'fight': False, 'precentegeoffight': '0.0048032794', 'processing_time': '10826'}, {'fight': False, 'precentegeoffight': '0.0055363537', 'processing_time': '10615'}, {'fight': False, 'precentegeoffight': '0.0059429593', 'processing_time': '10501'}, {'fight': False, 'precentegeoffight': '0.0053003835', 'processing_time': '10579'}, {'fight': False, 'precentegeoffight': '0.00495605', 'processing_time': '10463'}, {'fight': False, 'precentegeoffight': '0.0048513385', 'processing_time': '10455'}, {'fight': False, 'precentegeoffight': '0.0048393984', 'processing_time': '10521'}, {'fight': False, 'precentegeoffight': '0.004827776', 'processing_time': '10582'}, {'fight': False, 'precentegeoffight': '0.004806465', 'processing_time': '10471'}, {'fight': False, 'precentegeoffight': '0.0047977436', 'processing_time': '10635'}, {'fight': False, 'precentegeoffight': '0.0048077693', 'processing_time': '10486'}, {'fight': False, 'precentegeoffight': '0.00494604', 'processing_time': '10474'}, {'fight': False, 'precentegeoffight': '0.00480281', 'processing_time': '10512'}, {'fight': False, 'precentegeoffight': '0.004800898', 'processing_time': '10545'}, {'fight': False, 'precentegeoffight': '0.004908116', 'processing_time': '10573'}, {'fight': False, 'precentegeoffight': '0.0048067933', 'processing_time': '10536'}, {'fight': False, 'precentegeoffight': '0.005007625', 'processing_time': '10472'}]\n",
      "\n"
     ]
    }
   ],
   "source": [
    "import os\n",
    "\n",
    "return_list1 = []\n",
    "\n",
    "for file in os.listdir(\"E:/dataset/no/\"):\n",
    "\n",
    "                       if file.endswith(\".mpg\"):\n",
    "                           path=os.path.join(\"E:/dataset/no/\",file)\n",
    "                           res1=main_fight(path)\n",
    "                           return_list1.append(res1)\n",
    "                \n",
    "                        \n",
    "                           \n",
    "                    \n",
    "print(return_list1)\n",
    "print()"
   ]
  },
  {
   "cell_type": "code",
   "execution_count": null,
   "metadata": {},
   "outputs": [],
   "source": []
  },
  {
   "cell_type": "code",
   "execution_count": 6,
   "metadata": {},
   "outputs": [],
   "source": [
    "import matplotlib.pyplot as plt\n",
    "\n",
    "for otem in return_list:\n",
    "    for item in otem:\n",
    "        print(otem[item])\n"
   ]
  },
  {
   "cell_type": "code",
   "execution_count": 7,
   "metadata": {},
   "outputs": [],
   "source": [
    "for otem in return_list:\n",
    "    print (otem[\"precentegeoffight\"])\n"
   ]
  },
  {
   "cell_type": "code",
   "execution_count": 28,
   "metadata": {},
   "outputs": [
    {
     "data": {
      "image/png": "[encoded data removed]",
      "text/plain": [
       "<Figure size 432x288 with 1 Axes>"
      ]
     },
     "metadata": {
      "needs_background": "light"
     },
     "output_type": "display_data"
    }
   ],
   "source": [
    "import matplotlib.pyplot as plt\n",
    "days= range(1,21)\n",
    "\n",
    "for otem in return_list:\n",
    "    line_chart1=plt.plot(otem[\"precentegeoffight\"])\n",
    "    plt.show\n",
    "    \n",
    "\n",
    "\n"
   ]
  },
  {
   "cell_type": "code",
   "execution_count": 77,
   "metadata": {},
   "outputs": [
    {
     "name": "stdout",
     "output_type": "stream",
     "text": [
      "[]\n"
     ]
    }
   ],
   "source": [
    "\n",
    "\n",
    "    "
   ]
  },
  {
   "cell_type": "code",
   "execution_count": 78,
   "metadata": {},
   "outputs": [
    {
     "name": "stdout",
     "output_type": "stream",
     "text": [
      "[997, 997, 997, 997, 997, 997, 997, 997, 997, 997, 997, 997, 997, 997, 997, 997, 997, 997, 997, 997]\n"
     ]
    },
    {
     "data": {
      "image/png": "[encoded data removed]",
      "text/plain": [
       "<Figure size 432x288 with 1 Axes>"
      ]
     },
     "metadata": {
      "needs_background": "light"
     },
     "output_type": "display_data"
    }
   ],
   "source": [
    "dora1=[]\n",
    "dixy1=[]\n",
    "for otem1 in return_list1:\n",
    "    dora1.append(float(otem1[\"precentegeoffight\"]))\n",
    "    plt.plot(dora1)\n",
    "for item in dora1:\n",
    "    dixy1.append(int(item*1000))\n",
    "print(dixy1)\n",
    "\n",
    "\n",
    "    "
   ]
  },
  {
   "cell_type": "code",
   "execution_count": null,
   "metadata": {},
   "outputs": [],
   "source": []
  },
  {
   "cell_type": "code",
   "execution_count": null,
   "metadata": {},
   "outputs": [],
   "source": []
  },
  {
   "cell_type": "code",
   "execution_count": null,
   "metadata": {},
   "outputs": [],
   "source": []
  },
  {
   "cell_type": "code",
   "execution_count": 69,
   "metadata": {
    "scrolled": true
   },
   "outputs": [
    {
     "name": "stdout",
     "output_type": "stream",
     "text": [
      "[0.99508226, 0.9951514, 0.99544275, 0.9948932, 0.9960542, 0.9767379, 0.99549145, 0.99352694, 0.99647623, 0.99646276, 0.99488574, 0.99508226, 0.99232227, 0.995856, 0.9963819, 0.9964413, 0.99706703, 0.99575233, 0.9952991, 0.993834]\n"
     ]
    },
    {
     "data": {
      "image/png": "[encoded data removed]",
      "text/plain": [
       "<Figure size 432x288 with 1 Axes>"
      ]
     },
     "metadata": {
      "needs_background": "light"
     },
     "output_type": "display_data"
    }
   ],
   "source": [
    "import matplotlib.pyplot as plt\n",
    "dora=[]\n",
    "dore=[]\n",
    "for otem in return_list:\n",
    "    dora.append(float(otem[\"precentegeoffight\"]))\n",
    "    plt.plot(dora)\n",
    "\n",
    "plt.title('testing validation accu racy')\n",
    "plt.xlabel('epoch')\n",
    "plt.ylabel('accuracy')\n",
    "plt.legend(['Non violence'], loc=3)\n",
    "plt.show\n",
    "print(dora)\n",
    "   \n",
    "\n"
   ]
  },
  {
   "cell_type": "code",
   "execution_count": 80,
   "metadata": {},
   "outputs": [
    {
     "name": "stdout",
     "output_type": "stream",
     "text": [
      "[0.99508226, 0.9951514, 0.99544275, 0.9948932, 0.9960542, 0.9767379, 0.99549145, 0.99352694, 0.99647623, 0.99646276, 0.99488574, 0.99508226, 0.99232227, 0.995856, 0.9963819, 0.9964413, 0.99706703, 0.99575233, 0.9952991, 0.993834]\n"
     ]
    },
    {
     "data": {
      "image/png": "[encoded data removed]",
      "text/plain": [
       "<Figure size 432x288 with 1 Axes>"
      ]
     },
     "metadata": {
      "needs_background": "light"
     },
     "output_type": "display_data"
    }
   ],
   "source": [
    "import matplotlib.pyplot as plt\n",
    "dora=[]\n",
    "for otem in return_list:\n",
    "    dora.append(float(otem[\"precentegeoffight\"]))\n",
    "    plt.plot( dora)\n",
    "plt.show\n",
    "\n",
    "print(dora)\n",
    "\n",
    "\n"
   ]
  },
  {
   "cell_type": "code",
   "execution_count": 71,
   "metadata": {},
   "outputs": [
    {
     "data": {
      "image/png": "[encoded data removed]",
      "text/plain": [
       "<Figure size 432x288 with 1 Axes>"
      ]
     },
     "metadata": {
      "needs_background": "light"
     },
     "output_type": "display_data"
    }
   ],
   "source": [
    "import matplotlib.pyplot as plt\n",
    "sales1 = [1, 5, 8, 9, 7, 11, 8, 12, 14, 9, 5]\n",
    "sales2 = [3, 7, 9, 6, 4, 5, 14, 7, 6, 16, 12]\n",
    "line_chart1 = plt.plot(range(1,12), sales1)\n",
    "line_chart2 = plt.plot(range(1,12), sales2)\n",
    "plt.title('Monthly sales of 2016 and 2017')\n",
    "plt.xlabel('Sales')\n",
    "plt.ylabel('Month')\n",
    "plt.legend(['year 2016', 'year 2017'], loc=4)\n",
    "plt.show()"
   ]
  },
  {
   "cell_type": "code",
   "execution_count": 16,
   "metadata": {},
   "outputs": [
    {
     "data": {
      "text/plain": [
       "<function matplotlib.pyplot.show(*args, **kw)>"
      ]
     },
     "execution_count": 16,
     "metadata": {},
     "output_type": "execute_result"
    }
   ],
   "source": [
    "import matplotlib.pyplot as plt\n",
    "dora=[]\n",
    "for otem in return_list:\n",
    "    dora.append(float(otem[\"precentegeoffight\"]))\n",
    "plt1=plt.plot(dora)\n",
    "plt.show\n",
    "\n"
   ]
  },
  {
   "cell_type": "code",
   "execution_count": 17,
   "metadata": {},
   "outputs": [
    {
     "name": "stdout",
     "output_type": "stream",
     "text": [
      "(30, 160, 160, 3)\n",
      "reading video\n",
      "1591120243177\n",
      "1591120253835\n"
     ]
    }
   ],
   "source": [
    "\n",
    "res = main_fight('12.avi')\n",
    "\n"
   ]
  },
  {
   "cell_type": "code",
   "execution_count": 68,
   "metadata": {},
   "outputs": [
    {
     "data": {
      "text/plain": [
       "{'fight': True, 'precentegeoffight': '0.99706703', 'processing_time': '41196'}"
      ]
     },
     "execution_count": 68,
     "metadata": {},
     "output_type": "execute_result"
    }
   ],
   "source": [
    "res\n"
   ]
  },
  {
   "cell_type": "code",
   "execution_count": 24,
   "metadata": {},
   "outputs": [
    {
     "name": "stdout",
     "output_type": "stream",
     "text": [
      "true positives of fights detected in violent clips\n",
      "[995, 995, 995, 994, 996, 976, 995, 993, 996, 996, 994, 995, 992, 995, 996, 996, 997, 995, 995, 993]\n",
      "true positives of fights detected in violent clips\n",
      "[5, 5, 5, 6, 4, 24, 5, 7, 4, 4, 6, 5, 8, 5, 4, 4, 3, 5, 5, 7]\n"
     ]
    },
    {
     "data": {
      "image/png": "[encoded data removed]",
      "text/plain": [
       "<Figure size 432x288 with 1 Axes>"
      ]
     },
     "metadata": {
      "needs_background": "light"
     },
     "output_type": "display_data"
    }
   ],
   "source": [
    "dora=[]\n",
    "dixy=[]\n",
    "dixy2=[]\n",
    "print(\"true positives of fights detected in violent clips\")\n",
    "for otem in return_list:\n",
    "    dora.append(float(otem[\"precentegeoffight\"]))\n",
    "    plt.plot(dora)    \n",
    "for item in dora:\n",
    "    dixy.append(int(item*1000))\n",
    "\n",
    "for item in dora:\n",
    "    dixy2.append(1000-int(item*1000))\n",
    "print(dixy)\n",
    "print(\"False negatives of fights detected in violent clips\")\n",
    "print(dixy2)\n"
   ]
  },
  {
   "cell_type": "code",
   "execution_count": 29,
   "metadata": {},
   "outputs": [
    {
     "name": "stdout",
     "output_type": "stream",
     "text": [
      "true negatives of fights detected in violent clips\n",
      "[995, 995, 995, 995, 994, 994, 994, 995, 995, 995, 995, 995, 995, 995, 995, 995, 995, 995, 995, 994]\n",
      "False positives of fights detected in violent clips\n",
      "[5, 5, 5, 5, 6, 6, 6, 5, 5, 5, 5, 5, 5, 5, 5, 5, 5, 5, 5, 6]\n"
     ]
    },
    {
     "data": {
      "image/png": "[encoded data removed]",
      "text/plain": [
       "<Figure size 432x288 with 1 Axes>"
      ]
     },
     "metadata": {
      "needs_background": "light"
     },
     "output_type": "display_data"
    }
   ],
   "source": [
    "dora1=[]\n",
    "dixy1=[]\n",
    "dixy3=[]\n",
    "print(\"true negatives of fights detected in violent clips\")\n",
    "for otem1 in return_list1:\n",
    "    dora1.append(1-float(otem1[\"precentegeoffight\"]))\n",
    "    plt.plot(dora1)\n",
    "for item1 in dora1:\n",
    "    dixy1.append(int(item1*1000))\n",
    "print(dixy1)\n",
    "for item in dora1:\n",
    "    dixy3.append(1000-int(item*1000))\n",
    "\n",
    "print(\"False positives of fights detected in violent clips\")\n",
    "print(dixy3)\n",
    "\n"
   ]
  },
  {
   "cell_type": "code",
   "execution_count": 27,
   "metadata": {},
   "outputs": [
    {
     "name": "stdout",
     "output_type": "stream",
     "text": [
      "995\n",
      "995\n",
      "995\n",
      "994\n",
      "996\n",
      "976\n",
      "995\n",
      "993\n",
      "996\n",
      "996\n",
      "994\n",
      "995\n",
      "992\n",
      "995\n",
      "996\n",
      "996\n",
      "997\n",
      "995\n",
      "995\n",
      "993\n",
      "19879\n"
     ]
    }
   ],
   "source": [
    "tp=0\n",
    "for item in dixy:\n",
    "    print(item)\n",
    "    tp+=item\n",
    "print(tp)"
   ]
  },
  {
   "cell_type": "code",
   "execution_count": 92,
   "metadata": {},
   "outputs": [
    {
     "name": "stdout",
     "output_type": "stream",
     "text": [
      "995\n",
      "995\n",
      "995\n",
      "995\n",
      "994\n",
      "994\n",
      "994\n",
      "995\n",
      "995\n",
      "995\n",
      "995\n",
      "995\n",
      "995\n",
      "995\n",
      "995\n",
      "995\n",
      "995\n",
      "995\n",
      "995\n",
      "994\n",
      "19896\n"
     ]
    }
   ],
   "source": [
    "tn=0\n",
    "for item in dixy1:\n",
    "    print(item)\n",
    "    tn+=item\n",
    "print(tn)"
   ]
  },
  {
   "cell_type": "code",
   "execution_count": 94,
   "metadata": {},
   "outputs": [],
   "source": [
    "fp= 1000*20-tn\n",
    "fn= 1000*20-tp"
   ]
  },
  {
   "cell_type": "code",
   "execution_count": 96,
   "metadata": {},
   "outputs": [],
   "source": [
    "pre= tp/(tp+fp)\n",
    "recal=tp/(tp+fn)"
   ]
  },
  {
   "cell_type": "code",
   "execution_count": 104,
   "metadata": {},
   "outputs": [
    {
     "name": "stdout",
     "output_type": "stream",
     "text": [
      "0.9947955762398039 0.99395 0.9943726083585525\n"
     ]
    }
   ],
   "source": [
    "print(pre,recal,f1)"
   ]
  },
  {
   "cell_type": "code",
   "execution_count": 103,
   "metadata": {},
   "outputs": [],
   "source": [
    "f1=2*((pre*recal)/(pre+recal))"
   ]
  },
  {
   "cell_type": "code",
   "execution_count": null,
   "metadata": {},
   "outputs": [],
   "source": []
  }
 ],
 "metadata": {
  "kernelspec": {
   "display_name": "Python 3",
   "language": "python",
   "name": "python3"
  },
  "language_info": {
   "codemirror_mode": {
    "name": "ipython",
    "version": 3
   },
   "file_extension": ".py",
   "mimetype": "text/x-python",
   "name": "python",
   "nbconvert_exporter": "python",
   "pygments_lexer": "ipython3",
   "version": "3.7.4"
  }
 },
 "nbformat": 4,
 "nbformat_minor": 2
}
